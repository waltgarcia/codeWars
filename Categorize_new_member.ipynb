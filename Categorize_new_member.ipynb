{
  "nbformat": 4,
  "nbformat_minor": 0,
  "metadata": {
    "colab": {
      "name": "Categorize new member",
      "provenance": [],
      "authorship_tag": "ABX9TyOFOtezgTFl+EHbxE2onBmA",
      "include_colab_link": true
    },
    "kernelspec": {
      "name": "python3",
      "display_name": "Python 3"
    },
    "language_info": {
      "name": "python"
    }
  },
  "cells": [
    {
      "cell_type": "markdown",
      "metadata": {
        "id": "view-in-github",
        "colab_type": "text"
      },
      "source": [
        "<a href=\"https://colab.research.google.com/github/waltgarcia/codeWars/blob/main/Categorize_new_member.ipynb\" target=\"_parent\"><img src=\"https://colab.research.google.com/assets/colab-badge.svg\" alt=\"Open In Colab\"/></a>"
      ]
    },
    {
      "cell_type": "markdown",
      "source": [
        "## Categorize new member\n",
        "### The Western Suburbs Croquet Club has two categories of membership, Senior and Open. They would like your help with an application form that will tell prospective members which category they will be placed.\n",
        "\n",
        "### To be a senior, a member must be at least 55 years old and have a handicap greater than 7. In this croquet club, handicaps range from -2 to +26; the better the player the lower the handicap.\n",
        "\n",
        "##Input\n",
        "\n",
        "### Input will consist of a list of pairs. Each pair contains information for a single potential member. Information consists of an integer for the person's age and an integer for the person's handicap.\n",
        "\n",
        "## Output\n",
        "\n",
        "### Output will consist of a list of string values (in Haskell and C: Open or Senior) stating whether the respective member is to be placed in the senior or open category.\n",
        "\n",
        "## Example\n",
        "\n",
        "`input =  [[18, 20], [45, 2], [61, 12], [37, 6], [21, 21], [78, 9]]`\n",
        "\n",
        "`output = [\"Open\", \"Open\", \"Senior\", \"Open\", \"Open\", \"Senior\"]`\n"
      ],
      "metadata": {
        "id": "9rVTrPJxfEkq"
      }
    },
    {
      "cell_type": "code",
      "source": [
        "input = [[18, 20], [45, 2], [61, 12], [37, 6], [21, 21], [78, 9]]\n",
        "print (input)"
      ],
      "metadata": {
        "colab": {
          "base_uri": "https://localhost:8080/"
        },
        "id": "W6Q2VrXcfScB",
        "outputId": "00af7d77-de9f-4f25-a4cc-1a859d87e692"
      },
      "execution_count": 4,
      "outputs": [
        {
          "output_type": "stream",
          "name": "stdout",
          "text": [
            "[[18, 20], [45, 2], [61, 12], [37, 6], [21, 21], [78, 9]]\n"
          ]
        }
      ]
    },
    {
      "cell_type": "code",
      "source": [
        "def open_or_senior(data):\n",
        "    return [x > 54 and y > 7 and \"Senior\" or \"Open\" for x, y in data]"
      ],
      "metadata": {
        "id": "GPhKDn0kgUHU"
      },
      "execution_count": 38,
      "outputs": []
    },
    {
      "cell_type": "code",
      "source": [
        "data = [[18, 20], [45, 2], [61, 12], [37, 6], [21, 21], [78, 9]]"
      ],
      "metadata": {
        "id": "z2Qv7EiViX_I"
      },
      "execution_count": 39,
      "outputs": []
    },
    {
      "cell_type": "code",
      "source": [
        "open_or_senior(data)"
      ],
      "metadata": {
        "colab": {
          "base_uri": "https://localhost:8080/"
        },
        "id": "j83pnLZ4iZT3",
        "outputId": "8fb2311d-f365-49ef-abba-beaf7a97222a"
      },
      "execution_count": 40,
      "outputs": [
        {
          "output_type": "execute_result",
          "data": {
            "text/plain": [
              "['Open', 'Open', 'Senior', 'Open', 'Open', 'Senior']"
            ]
          },
          "metadata": {},
          "execution_count": 40
        }
      ]
    },
    {
      "cell_type": "code",
      "source": [
        "def open_or_senior(data):\n",
        "  return [\"Senior\" if age >= 55 and handicap >= 8 else \"Open\" for (age, handicap) in data]"
      ],
      "metadata": {
        "id": "9PJZ0P6Aibpx"
      },
      "execution_count": 41,
      "outputs": []
    },
    {
      "cell_type": "code",
      "source": [
        "def openOrSenior(members):\n",
        "    return [\"Senior\" if m[0]>54 and m[1]>7 else \"Open\" for m in members]"
      ],
      "metadata": {
        "id": "4kMRLj1hquvE"
      },
      "execution_count": 42,
      "outputs": []
    },
    {
      "cell_type": "code",
      "source": [
        "def openOrSenior(data):\n",
        "    return ['Senior' if x[0] > 54 and x[1] > 7 else 'Open' for x in data]"
      ],
      "metadata": {
        "id": "OyzpBimuq2cr"
      },
      "execution_count": 43,
      "outputs": []
    }
  ]
}