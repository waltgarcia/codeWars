{
  "nbformat": 4,
  "nbformat_minor": 0,
  "metadata": {
    "colab": {
      "name": "create_phone_number",
      "provenance": [],
      "authorship_tag": "ABX9TyN5qdlsRLmx7bGcLxep+sLw",
      "include_colab_link": true
    },
    "kernelspec": {
      "name": "python3",
      "display_name": "Python 3"
    },
    "language_info": {
      "name": "python"
    }
  },
  "cells": [
    {
      "cell_type": "markdown",
      "metadata": {
        "id": "view-in-github",
        "colab_type": "text"
      },
      "source": [
        "<a href=\"https://colab.research.google.com/github/waltgarcia/codeWars/blob/main/create_phone_number.ipynb\" target=\"_parent\"><img src=\"https://colab.research.google.com/assets/colab-badge.svg\" alt=\"Open In Colab\"/></a>"
      ]
    },
    {
      "cell_type": "markdown",
      "source": [
        "## Create phone number\n",
        "#### Write a function that accepts an array of 10 integers (between 0 and 9), that returns a string of those numbers in the form of a phone number.\n",
        "\n",
        "### Example\n",
        "\n",
        "`create_phone_number([1, 2, 3, 4, 5, 6, 7, 8, 9, 0]) # => returns \"(123) 456-7890\"`\n",
        "\n",
        "#### The returned format must be correct in order to complete this challenge.\n",
        "\n",
        "#### Don't forget the space after the closing parentheses!\n"
      ],
      "metadata": {
        "id": "3ap5gTh0dDU8"
      }
    },
    {
      "cell_type": "code",
      "execution_count": 5,
      "metadata": {
        "id": "kSJb6srcatJw"
      },
      "outputs": [],
      "source": [
        "def create_phone_number(n):\n",
        "    s = \"\".join([str(i) for i in n])\n",
        "    return f\"({s[:3]}) {s[3:6]}-{s[6:]}\""
      ]
    },
    {
      "cell_type": "code",
      "source": [
        "create_phone_number([1, 2, 3, 4, 5, 6, 7, 8, 9, 0])"
      ],
      "metadata": {
        "colab": {
          "base_uri": "https://localhost:8080/",
          "height": 36
        },
        "id": "lWsbq7Bcax23",
        "outputId": "eb9ed6d5-4f69-49ce-9207-d0302e25fbbb"
      },
      "execution_count": 6,
      "outputs": [
        {
          "output_type": "execute_result",
          "data": {
            "text/plain": [
              "'(123) 456-7890'"
            ],
            "application/vnd.google.colaboratory.intrinsic+json": {
              "type": "string"
            }
          },
          "metadata": {},
          "execution_count": 6
        }
      ]
    },
    {
      "cell_type": "code",
      "source": [
        "def create_phone_number(n):\n",
        "    return \"({}{}{}) {}{}{}-{}{}{}{}\".format(*n)"
      ],
      "metadata": {
        "id": "L0NzTPc1dw1U"
      },
      "execution_count": 7,
      "outputs": []
    },
    {
      "cell_type": "code",
      "source": [
        "create_phone_number([1, 2, 3, 4, 5, 6, 7, 8, 9, 0])"
      ],
      "metadata": {
        "colab": {
          "base_uri": "https://localhost:8080/",
          "height": 36
        },
        "id": "Vv556gmmdx_z",
        "outputId": "bea8038b-58a6-485a-ea8a-9bb7365d5fac"
      },
      "execution_count": 8,
      "outputs": [
        {
          "output_type": "execute_result",
          "data": {
            "text/plain": [
              "'(123) 456-7890'"
            ],
            "application/vnd.google.colaboratory.intrinsic+json": {
              "type": "string"
            }
          },
          "metadata": {},
          "execution_count": 8
        }
      ]
    },
    {
      "cell_type": "code",
      "source": [
        "def create_phone_number(n):\n",
        "    n = ''.join(map(str,n))\n",
        "    return '(%s) %s-%s'%(n[:3], n[3:6], n[6:])"
      ],
      "metadata": {
        "id": "XM8-Uxyzdy93"
      },
      "execution_count": 9,
      "outputs": []
    },
    {
      "cell_type": "code",
      "source": [
        "create_phone_number([1, 2, 3, 4, 5, 6, 7, 8, 9, 0])"
      ],
      "metadata": {
        "colab": {
          "base_uri": "https://localhost:8080/",
          "height": 36
        },
        "id": "GERCDjCRd8dA",
        "outputId": "e7f2de32-ef68-40ad-fb21-06d452c1a98e"
      },
      "execution_count": 10,
      "outputs": [
        {
          "output_type": "execute_result",
          "data": {
            "text/plain": [
              "'(123) 456-7890'"
            ],
            "application/vnd.google.colaboratory.intrinsic+json": {
              "type": "string"
            }
          },
          "metadata": {},
          "execution_count": 10
        }
      ]
    },
    {
      "cell_type": "code",
      "source": [
        "def create_phone_number(n):\n",
        "  str1 =  ''.join(str(x) for x in n[0:3])\n",
        "  str2 =  ''.join(str(x) for x in n[3:6])\n",
        "  str3 =  ''.join(str(x) for x in n[6:10])\n",
        "\n",
        "\n",
        "  return '({}) {}-{}'.format(str1, str2, str3)"
      ],
      "metadata": {
        "id": "YL1WGZard9a7"
      },
      "execution_count": 11,
      "outputs": []
    },
    {
      "cell_type": "code",
      "source": [
        "create_phone_number([1, 2, 3, 4, 5, 6, 7, 8, 9, 0])"
      ],
      "metadata": {
        "colab": {
          "base_uri": "https://localhost:8080/",
          "height": 36
        },
        "id": "KXUVph3peC_S",
        "outputId": "4caeb6cd-f715-4607-a9e2-e5262cbeaa4b"
      },
      "execution_count": 12,
      "outputs": [
        {
          "output_type": "execute_result",
          "data": {
            "text/plain": [
              "'(123) 456-7890'"
            ],
            "application/vnd.google.colaboratory.intrinsic+json": {
              "type": "string"
            }
          },
          "metadata": {},
          "execution_count": 12
        }
      ]
    },
    {
      "cell_type": "code",
      "source": [
        "def create_phone_number(n):\n",
        "    m = ''.join(map(str, n))\n",
        "    return f\"({m[:3]}) {m[3:6]}-{m[6:]}\""
      ],
      "metadata": {
        "id": "7XuO6EjyeESO"
      },
      "execution_count": 13,
      "outputs": []
    },
    {
      "cell_type": "code",
      "source": [
        "create_phone_number([1, 2, 3, 4, 5, 6, 7, 8, 9, 0])"
      ],
      "metadata": {
        "colab": {
          "base_uri": "https://localhost:8080/",
          "height": 36
        },
        "id": "xEdcWMS7eG7M",
        "outputId": "21cbbb96-875a-411c-923b-932aa1f3567c"
      },
      "execution_count": 14,
      "outputs": [
        {
          "output_type": "execute_result",
          "data": {
            "text/plain": [
              "'(123) 456-7890'"
            ],
            "application/vnd.google.colaboratory.intrinsic+json": {
              "type": "string"
            }
          },
          "metadata": {},
          "execution_count": 14
        }
      ]
    },
    {
      "cell_type": "code",
      "source": [
        "def create_phone_number(n):\n",
        "    n = \"\".join([str(x) for x in n] )\n",
        "    return(\"(\" + str(n[0:3]) + \")\" + \" \" + str(n[3:6]) + \"-\" + str(n[6:]))"
      ],
      "metadata": {
        "id": "9fupaZR-eIaJ"
      },
      "execution_count": 15,
      "outputs": []
    },
    {
      "cell_type": "code",
      "source": [
        "create_phone_number([1, 2, 3, 4, 5, 6, 7, 8, 9, 0])"
      ],
      "metadata": {
        "colab": {
          "base_uri": "https://localhost:8080/",
          "height": 36
        },
        "id": "edwCt4ZieNMN",
        "outputId": "cfd28e7a-3a1a-41d1-acd2-39970f38e9ef"
      },
      "execution_count": 16,
      "outputs": [
        {
          "output_type": "execute_result",
          "data": {
            "text/plain": [
              "'(123) 456-7890'"
            ],
            "application/vnd.google.colaboratory.intrinsic+json": {
              "type": "string"
            }
          },
          "metadata": {},
          "execution_count": 16
        }
      ]
    }
  ]
}