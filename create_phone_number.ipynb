{
  "nbformat": 4,
  "nbformat_minor": 0,
  "metadata": {
    "colab": {
      "name": "create_phone_number",
      "provenance": []
    },
    "kernelspec": {
      "name": "python3",
      "display_name": "Python 3"
    },
    "language_info": {
      "name": "python"
    }
  },
  "cells": [
    {
      "cell_type": "code",
      "execution_count": null,
      "metadata": {
        "id": "kSJb6srcatJw"
      },
      "outputs": [],
      "source": [
        "def create_phone_number(n):\n",
        "    s = \"\".join([str(i) for i in n])\n",
        "    return f\"({s[:3]}) {s[3:6]}-{s[6:]}\""
      ]
    },
    {
      "cell_type": "code",
      "source": [
        "create_phone_number([1, 2, 3, 4, 5, 6, 7, 8, 9, 0])"
      ],
      "metadata": {
        "colab": {
          "base_uri": "https://localhost:8080/",
          "height": 36
        },
        "id": "lWsbq7Bcax23",
        "outputId": "e6d9fefd-a260-491b-825e-efcd97f9536b"
      },
      "execution_count": null,
      "outputs": [
        {
          "output_type": "execute_result",
          "data": {
            "text/plain": [
              "'(123) 456-7890'"
            ],
            "application/vnd.google.colaboratory.intrinsic+json": {
              "type": "string"
            }
          },
          "metadata": {},
          "execution_count": 4
        }
      ]
    }
  ]
}