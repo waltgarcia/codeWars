{
 "cells": [
  {
   "cell_type": "markdown",
   "metadata": {},
   "source": [
    "### Reversing words in a string\n",
    "You need to write a function that reverses the words in a given string. A word can also fit an empty string. If this is not clear enough, here are some examples:\n",
    "\n",
    "As the input may have trailing spaces, you will also need to ignore unneccesary whitespace.\n",
    "\n",
    "**Example (Input --> Output)**\n",
    "\n",
    "\"Hello World\" --> \"World Hello\"\n",
    "\"Hi There.\" --> \"There. Hi\"\n",
    "\n",
    "Happy coding!\n"
   ]
  },
  {
   "cell_type": "code",
   "execution_count": 1,
   "metadata": {},
   "outputs": [],
   "source": [
    "def reverse(st):\n",
    "    st = st.split()\n",
    "    st.reverse()\n",
    "    return ' '.join(st)"
   ]
  },
  {
   "cell_type": "code",
   "execution_count": 2,
   "metadata": {},
   "outputs": [
    {
     "data": {
      "text/plain": [
       "'día buen un es Hoy'"
      ]
     },
     "execution_count": 2,
     "metadata": {},
     "output_type": "execute_result"
    }
   ],
   "source": [
    "reverse(\"Hoy es un buen día\")"
   ]
  }
 ],
 "metadata": {
  "kernelspec": {
   "display_name": "Python 3.9.13 64-bit",
   "language": "python",
   "name": "python3"
  },
  "language_info": {
   "codemirror_mode": {
    "name": "ipython",
    "version": 3
   },
   "file_extension": ".py",
   "mimetype": "text/x-python",
   "name": "python",
   "nbconvert_exporter": "python",
   "pygments_lexer": "ipython3",
   "version": "3.9.13"
  },
  "orig_nbformat": 4,
  "vscode": {
   "interpreter": {
    "hash": "aee8b7b246df8f9039afb4144a1f6fd8d2ca17a180786b69acc140d282b71a49"
   }
  }
 },
 "nbformat": 4,
 "nbformat_minor": 2
}
